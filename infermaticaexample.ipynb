{
  "nbformat": 4,
  "nbformat_minor": 0,
  "metadata": {
    "colab": {
      "name": "infermaticaexample.ipynb",
      "provenance": []
    },
    "kernelspec": {
      "name": "python3",
      "display_name": "Python 3"
    }
  },
  "cells": [
    {
      "cell_type": "code",
      "metadata": {
        "colab": {
          "base_uri": "https://localhost:8080/"
        },
        "id": "BjbOgjZFCYTb",
        "outputId": "fd17eb6a-8a58-422d-fe57-1d7e28a311fb"
      },
      "source": [
        "!git clone https://github.com/infermedica/symptom-checker-chatbot-example"
      ],
      "execution_count": 1,
      "outputs": [
        {
          "output_type": "stream",
          "text": [
            "Cloning into 'symptom-checker-chatbot-example'...\n",
            "remote: Enumerating objects: 80, done.\u001b[K\n",
            "remote: Total 80 (delta 0), reused 0 (delta 0), pack-reused 80\u001b[K\n",
            "Unpacking objects: 100% (80/80), done.\n"
          ],
          "name": "stdout"
        }
      ]
    },
    {
      "cell_type": "code",
      "metadata": {
        "id": "K8acMgFtDKvc"
      },
      "source": [
        "import os\r\n",
        "os.chdir('symptom-checker-chatbot-example')"
      ],
      "execution_count": 3,
      "outputs": []
    },
    {
      "cell_type": "code",
      "metadata": {
        "colab": {
          "base_uri": "https://localhost:8080/"
        },
        "id": "IQZF2WcqD181",
        "outputId": "b081eae9-3319-4404-e75c-01566809969b"
      },
      "source": [
        "!pip install folium==0.2.1\r\n",
        "!pip install requests==2.22.0\r\n",
        "!pip install -r requirements.txt"
      ],
      "execution_count": 5,
      "outputs": [
        {
          "output_type": "stream",
          "text": [
            "Collecting folium==0.2.1\n",
            "\u001b[?25l  Downloading https://files.pythonhosted.org/packages/72/dd/75ced7437bfa7cb9a88b96ee0177953062803c3b4cde411a97d98c35adaf/folium-0.2.1.tar.gz (69kB)\n",
            "\r\u001b[K     |████▊                           | 10kB 13.5MB/s eta 0:00:01\r\u001b[K     |█████████▍                      | 20kB 18.3MB/s eta 0:00:01\r\u001b[K     |██████████████                  | 30kB 22.9MB/s eta 0:00:01\r\u001b[K     |██████████████████▊             | 40kB 19.8MB/s eta 0:00:01\r\u001b[K     |███████████████████████▍        | 51kB 18.4MB/s eta 0:00:01\r\u001b[K     |████████████████████████████    | 61kB 20.5MB/s eta 0:00:01\r\u001b[K     |████████████████████████████████| 71kB 5.3MB/s \n",
            "\u001b[?25hRequirement already satisfied: Jinja2 in /usr/local/lib/python3.6/dist-packages (from folium==0.2.1) (2.11.2)\n",
            "Requirement already satisfied: MarkupSafe>=0.23 in /usr/local/lib/python3.6/dist-packages (from Jinja2->folium==0.2.1) (1.1.1)\n",
            "Building wheels for collected packages: folium\n",
            "  Building wheel for folium (setup.py) ... \u001b[?25l\u001b[?25hdone\n",
            "  Created wheel for folium: filename=folium-0.2.1-cp36-none-any.whl size=79980 sha256=0f2a42ac7e06c31ae41fc8c31ae8dce4d17c29c4f7846b43482af99368bb7586\n",
            "  Stored in directory: /root/.cache/pip/wheels/b8/09/f0/52d2ef419c2aaf4fb149f92a33e0008bdce7ae816f0dd8f0c5\n",
            "Successfully built folium\n",
            "Installing collected packages: folium\n",
            "  Found existing installation: folium 0.8.3\n",
            "    Uninstalling folium-0.8.3:\n",
            "      Successfully uninstalled folium-0.8.3\n",
            "Successfully installed folium-0.2.1\n"
          ],
          "name": "stdout"
        }
      ]
    },
    {
      "cell_type": "code",
      "metadata": {
        "colab": {
          "base_uri": "https://localhost:8080/"
        },
        "id": "uaqaQH1qDFNs",
        "outputId": "a7273113-780f-4dc2-a7fb-94e376918e8e"
      },
      "source": [
        "!python chat.py aa2fb846:150bc1e17a9a86a6c21f7e0f4cfa9d41"
      ],
      "execution_count": 16,
      "outputs": [
        {
          "output_type": "stream",
          "text": [
            "Please enter your age and sex (e.g., 30 male): 19 male\n",
            "Ok, 19 year old male.\n",
            "Describe you complaints, Leave Blank and hit enter when finished: I have a headache and a stomache\n",
            "Noting: +Headache\n",
            "Describe you complaints, Leave Blank and hit enter when finished: \n",
            "Are your headaches severe? yes\n",
            "Do you have a sore throat? no\n",
            "Have you been experiencing these headaches for more than three months? no\n",
            "Do you have weakness in your legs or arms where you can't move them even if you try? no\n",
            "Do you have muscle aches, pains or soreness? yes\n",
            "Do you have neck pain? no\n",
            "Do you have a runny nose? no\n",
            "Do you have a fever? no\n",
            "Have you been experiencing these headaches for less than three months? no\n",
            "Do you have blood pressure over 140/90 mmHg? no\n",
            "Does your throat or nose feel itchy or tingly? no\n",
            "Is your headache one-sided? no\n",
            "Do you have a cough? no\n",
            "Do your gastric symptoms occur shortly after you eat or drink dairy products like milk, ice cream, or cheese? no\n",
            "Do you feel your headache towards the back of your head? yes\n",
            "Is your neck twisted and does it hurt when you try to straighten it? no\n",
            "Does your neck feel so stiff that you can't touch your chin to your chest? no\n",
            "Do you have pain around your eye? yes\n",
            "Do your headaches feel like something is pressing or squeezing around your head? yes\n",
            "Have you been experiencing muscle cramps? no\n",
            "\n",
            "Patient complaints:\n",
            " 1. +Headache\n",
            "\n",
            "Patient answers:\n",
            " 1. +Headache, severe\n",
            " 2. -Pharyngeal pain\n",
            " 3. -Headache, chronic\n",
            " 4. -Paralysis, limb\n",
            " 5. +Myalgia\n",
            " 6. -Neck pain\n",
            " 7. -Nasal catarrh\n",
            " 8. -Fever\n",
            " 9. -Headache, recent\n",
            "10. -Hypertension, over 140 mmHg\n",
            "11. -Itchy throat or nose\n",
            "12. -Headache, unilateral\n",
            "13. -Cough\n",
            "14. -Gastric symptoms after eating or drinking foods containing lactose\n",
            "15. +Headache, occipital\n",
            "16. -Twisted neck\n",
            "17. -Stiff neck\n",
            "18. +Pain near eye socket\n",
            "19. +Headache, pressing\n",
            "20. -Muscle cramps\n",
            "\n",
            "Diagnoses:\n",
            " 1. 0.04 Cervical strain\n",
            " 2. 0.02 Tension-type headaches\n",
            "\n",
            "Triage level: consultation_24\n",
            "Teleconsultation applicable: False\n",
            "\n"
          ],
          "name": "stdout"
        }
      ]
    },
    {
      "cell_type": "code",
      "metadata": {
        "id": "s7jvjz4NVHe-"
      },
      "source": [
        "19 male"
      ],
      "execution_count": null,
      "outputs": []
    }
  ]
}